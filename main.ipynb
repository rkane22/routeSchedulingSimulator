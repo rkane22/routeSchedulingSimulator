{
 "metadata": {
  "language_info": {
   "codemirror_mode": {
    "name": "ipython",
    "version": 3
   },
   "file_extension": ".py",
   "mimetype": "text/x-python",
   "name": "python",
   "nbconvert_exporter": "python",
   "pygments_lexer": "ipython3",
   "version": "3.9.0-final"
  },
  "orig_nbformat": 2,
  "kernelspec": {
   "name": "python3",
   "display_name": "Python 3.9.0 64-bit",
   "metadata": {
    "interpreter": {
     "hash": "63fd5069d213b44bf678585dea6b12cceca9941eaf7f819626cde1f2670de90d"
    }
   }
  }
 },
 "nbformat": 4,
 "nbformat_minor": 2,
 "cells": [
  {
   "cell_type": "code",
   "execution_count": 1,
   "metadata": {},
   "outputs": [
    {
     "output_type": "execute_result",
     "data": {
      "text/plain": [
       "[(val: 6, pos_x: 1, pos_y: 1),\n",
       " (val: 5, pos_x: 1, pos_y: 2),\n",
       " (val: 6, pos_x: 1, pos_y: 3),\n",
       " (val: 6, pos_x: 1, pos_y: 4),\n",
       " (val: 3, pos_x: 1, pos_y: 5),\n",
       " (val: 3, pos_x: 2, pos_y: 1),\n",
       " (val: 6, pos_x: 2, pos_y: 2),\n",
       " (val: 9, pos_x: 2, pos_y: 3),\n",
       " (val: 6, pos_x: 2, pos_y: 4),\n",
       " (val: 4, pos_x: 2, pos_y: 5),\n",
       " (val: 6, pos_x: 3, pos_y: 1),\n",
       " (val: 1, pos_x: 3, pos_y: 2),\n",
       " (val: 2, pos_x: 3, pos_y: 3),\n",
       " (val: 3, pos_x: 3, pos_y: 4),\n",
       " (val: 7, pos_x: 3, pos_y: 5),\n",
       " (val: 4, pos_x: 4, pos_y: 1),\n",
       " (val: 7, pos_x: 4, pos_y: 2),\n",
       " (val: 6, pos_x: 4, pos_y: 3),\n",
       " (val: 1, pos_x: 4, pos_y: 4),\n",
       " (val: 9, pos_x: 4, pos_y: 5),\n",
       " (val: 7, pos_x: 5, pos_y: 1),\n",
       " (val: 3, pos_x: 5, pos_y: 2),\n",
       " (val: 4, pos_x: 5, pos_y: 3),\n",
       " (val: 5, pos_x: 5, pos_y: 4),\n",
       " (val: 3, pos_x: 5, pos_y: 5)]"
      ]
     },
     "metadata": {},
     "execution_count": 1
    }
   ],
   "source": [
    "from Graph import AisleGraph, gen_random_aisle_graph\n",
    "\n",
    "g = gen_random_aisle_graph()\n",
    "g.get_node_list()"
   ]
  },
  {
   "cell_type": "code",
   "execution_count": 2,
   "metadata": {},
   "outputs": [
    {
     "output_type": "execute_result",
     "data": {
      "text/plain": [
       "[(val: 9, pos_x: 2, pos_y: 3), (val: 9, pos_x: 4, pos_y: 5), (val: 7, pos_x: 3, pos_y: 5), (val: 6, pos_x: 1, pos_y: 1), (val: 7, pos_x: 4, pos_y: 2), (val: 5, pos_x: 5, pos_y: 4), (val: 6, pos_x: 1, pos_y: 3), (val: 6, pos_x: 1, pos_y: 4), (val: 6, pos_x: 2, pos_y: 4), (val: 7, pos_x: 5, pos_y: 1), (val: 4, pos_x: 2, pos_y: 5), (val: 3, pos_x: 2, pos_y: 1), (val: 2, pos_x: 3, pos_y: 3), (val: 3, pos_x: 3, pos_y: 4), (val: 6, pos_x: 2, pos_y: 2), (val: 4, pos_x: 4, pos_y: 1), (val: 5, pos_x: 1, pos_y: 2), (val: 6, pos_x: 4, pos_y: 3), (val: 1, pos_x: 4, pos_y: 4), (val: 3, pos_x: 1, pos_y: 5), (val: 6, pos_x: 3, pos_y: 1), (val: 3, pos_x: 5, pos_y: 2), (val: 4, pos_x: 5, pos_y: 3), (val: 1, pos_x: 3, pos_y: 2), (val: 3, pos_x: 5, pos_y: 5)]"
      ]
     },
     "metadata": {},
     "execution_count": 2
    }
   ],
   "source": [
    "from agents import buildMaxHeap\n",
    "\n",
    "h = buildMaxHeap(g.get_node_list())\n",
    "h"
   ]
  },
  {
   "cell_type": "code",
   "execution_count": null,
   "metadata": {},
   "outputs": [],
   "source": []
  }
 ]
}