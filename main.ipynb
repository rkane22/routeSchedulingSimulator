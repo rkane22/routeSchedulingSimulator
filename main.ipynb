{
 "metadata": {
  "language_info": {
   "codemirror_mode": {
    "name": "ipython",
    "version": 3
   },
   "file_extension": ".py",
   "mimetype": "text/x-python",
   "name": "python",
   "nbconvert_exporter": "python",
   "pygments_lexer": "ipython3",
   "version": "3.9.0"
  },
  "orig_nbformat": 2,
  "kernelspec": {
   "name": "python3",
   "display_name": "Python 3.9.0 64-bit",
   "metadata": {
    "interpreter": {
     "hash": "63fd5069d213b44bf678585dea6b12cceca9941eaf7f819626cde1f2670de90d"
    }
   }
  }
 },
 "nbformat": 4,
 "nbformat_minor": 2,
 "cells": [
  {
   "cell_type": "code",
   "execution_count": 5,
   "metadata": {},
   "outputs": [
    {
     "output_type": "stream",
     "name": "stdout",
     "text": [
      "0-3-1-1-2-5-4-3-18-1-1-2-6-10-1-1-4-1-17-1-4-4-1-2-1-14\n|\n0-1-2-1-1-1-1-1-2-1-5-1-17-3-1-1-2-2-1-1-2-1-3-1-1-1\n|\n0-1-1-3-1-1-13-1-1-2-1-4-1-3-3-1-1-1-1-2-1-3-1-1-7-4\n|\n0-60-1-1-1-7-1-1-4-1-2-2-1-1-4-2-48-4-1-1-2-3-1-3-1-5\n|\n0-1-1-9-1-2-2-1-1-2-1-9-2-7-1-5-1-6-2-1-1-1-3-1-2-2\n|\n0-2-6-2-1-1-1-1-1-1-67-1-1-5-2-1-1-60-1-2-3-1-1-1-1-1\n|\n0-3-3-1-31-2-1-2-2-1-2-1-1-9-1-1-27-1-1-1-1-139-2-122-3-2\n|\n0-1-1-1-1-1-1-1-1-1-3-3-4-1-1-5-1-2-1-1-5-12-81-1-1-1\n|\n0-2-4-1-1-6-1-45-1-2-1-84-1-1-1-4-1-1-1-1-1-23-1-1-1-1\n|\n0-2-1-1-7-1-2-1-9-1-1-1-1-8-1-1-1-6-1-1-2-8-1-1-1-1\n|\n0-1-1-1-14-1-2-2-1-1-6-3-1-2-2-1-1-1-1-4-1-1-1-3-11-2\n|\n0-1-1-1-1-1-2-1-1-9-1-2-22-1-4-1-2-1-2-2-1-1-1-1-1-1\n\n"
     ]
    }
   ],
   "source": [
    "from Graph import gen_random_aisle_graph\n",
    "\n",
    "g = gen_random_aisle_graph(rows=12, cols=26, theta=2)\n",
    "print(g)\n",
    "# g.set_compare_mode(Graph.CUMULATIVE)\n",
    "# print(g)\n",
    "# print(g.get(1, 2))\n",
    "budget = 344\n",
    "num_agents = 4"
   ]
  },
  {
   "cell_type": "code",
   "execution_count": 2,
   "metadata": {
    "tags": []
   },
   "outputs": [
    {
     "output_type": "stream",
     "name": "stdout",
     "text": [
      "0.7144638403990025\n"
     ]
    },
    {
     "output_type": "execute_result",
     "data": {
      "text/plain": [
       "85"
      ]
     },
     "metadata": {},
     "execution_count": 2
    }
   ],
   "source": [
    "from agents import Traverser\n",
    "t = Traverser(g, budget)\n",
    "sols_p = t.parallel2(num_agents)\n",
    "r = Solution(g)\n",
    "for sol in sols_p:\n",
    "    for node in sol.nodes:\n",
    "        r.nodes.add(node)\n",
    "print(r.sum()/sols_p[0].total_reward())\n",
    "max([len(sol.path_schedule()) for sol in sols_p])"
   ]
  },
  {
   "cell_type": "code",
   "execution_count": 3,
   "metadata": {},
   "outputs": [
    {
     "output_type": "stream",
     "name": "stdout",
     "text": [
      "0.7238154613466334\n"
     ]
    },
    {
     "output_type": "execute_result",
     "data": {
      "text/plain": [
       "85"
      ]
     },
     "metadata": {},
     "execution_count": 3
    }
   ],
   "source": [
    "t = Traverser(g, budget)\n",
    "sols_s = t.series(num_agents)\n",
    "r = Solution(g)\n",
    "for sol in sols_s:\n",
    "    for node in sol.nodes:\n",
    "        r.nodes.add(node)\n",
    "print(r.sum()/sols_s[0].total_reward())\n",
    "max([len(sol.path_schedule()) for sol in sols_s])"
   ]
  },
  {
   "cell_type": "code",
   "execution_count": 4,
   "metadata": {},
   "outputs": [],
   "source": [
    "for i in range(len(sols_p)):\n",
    "    match = True\n",
    "    for node in sols_p[i].nodes:\n",
    "        if not (node in sols_s[i].nodes):\n",
    "            match = False\n",
    "    if match:\n",
    "        print(i, \"match\")\n",
    "\n"
   ]
  },
  {
   "cell_type": "code",
   "execution_count": null,
   "metadata": {},
   "outputs": [],
   "source": []
  }
 ]
}